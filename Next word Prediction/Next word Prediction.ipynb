{
 "cells": [
  {
   "cell_type": "code",
   "execution_count": 1,
   "id": "342ce4b4",
   "metadata": {},
   "outputs": [],
   "source": [
    "import tensorflow as tf\n",
    "from tensorflow.keras.preprocessing.text import Tokenizer\n",
    "from tensorflow.keras.preprocessing.sequence import pad_sequences\n",
    "import numpy as np\n",
    "\n",
    "# Load the dataset\n",
    "data = open('1661-0.txt', encoding='utf-8').read()\n",
    "\n",
    "# Preprocess the text data\n",
    "tokenizer = Tokenizer()\n",
    "corpus = data.lower().split(\"\\n\")\n",
    "tokenizer.fit_on_texts(corpus)\n",
    "total_words = len(tokenizer.word_index) + 1\n",
    "\n",
    "# Create input sequences and labels\n",
    "input_sequences = []\n",
    "for line in corpus:\n",
    "    token_list = tokenizer.texts_to_sequences([line])[0]\n",
    "    for i in range(1, len(token_list)):\n",
    "        n_gram_sequence = token_list[:i+1]\n",
    "        input_sequences.append(n_gram_sequence)\n",
    "\n",
    "# Pad sequences for equal input length\n",
    "max_sequence_len = max([len(x) for x in input_sequences])\n",
    "input_sequences = np.array(pad_sequences(input_sequences, maxlen=max_sequence_len, padding='pre'))\n",
    "\n",
    "# Split sequences into input and label\n",
    "xs, labels = input_sequences[:, :-1], input_sequences[:, -1]\n",
    "ys = tf.keras.utils.to_categorical(labels, num_classes=total_words)"
   ]
  },
  {
   "cell_type": "code",
   "execution_count": 2,
   "id": "0bc2b49c",
   "metadata": {},
   "outputs": [],
   "source": [
    "model = tf.keras.models.Sequential([\n",
    "    tf.keras.layers.Embedding(total_words, 100, input_length=max_sequence_len-1),\n",
    "    tf.keras.layers.Bidirectional(tf.keras.layers.LSTM(150)),\n",
    "    tf.keras.layers.Dense(total_words, activation='softmax')\n",
    "])\n",
    "\n",
    "# Compile the model\n",
    "model.compile(optimizer='adam', loss='categorical_crossentropy', metrics=['accuracy'])"
   ]
  },
  {
   "cell_type": "code",
   "execution_count": 3,
   "id": "2b3cc31e",
   "metadata": {},
   "outputs": [
    {
     "name": "stdout",
     "output_type": "stream",
     "text": [
      "Epoch 1/10\n",
      "3176/3176 [==============================] - 138s 42ms/step - loss: 6.1956 - accuracy: 0.0814\n",
      "Epoch 2/10\n",
      "3176/3176 [==============================] - 175s 55ms/step - loss: 5.4282 - accuracy: 0.1334\n",
      "Epoch 3/10\n",
      "3176/3176 [==============================] - 197s 62ms/step - loss: 5.0123 - accuracy: 0.1582\n",
      "Epoch 4/10\n",
      "3176/3176 [==============================] - 171s 54ms/step - loss: 4.6693 - accuracy: 0.1775\n",
      "Epoch 5/10\n",
      "3176/3176 [==============================] - 148s 47ms/step - loss: 4.3508 - accuracy: 0.1974\n",
      "Epoch 6/10\n",
      "3176/3176 [==============================] - 141s 44ms/step - loss: 4.0434 - accuracy: 0.2217\n",
      "Epoch 7/10\n",
      "3176/3176 [==============================] - 133s 42ms/step - loss: 3.7474 - accuracy: 0.2522\n",
      "Epoch 8/10\n",
      "3176/3176 [==============================] - 145s 46ms/step - loss: 3.4670 - accuracy: 0.2886\n",
      "Epoch 9/10\n",
      "3176/3176 [==============================] - 139s 44ms/step - loss: 3.2022 - accuracy: 0.3280\n",
      "Epoch 10/10\n",
      "3176/3176 [==============================] - 139s 44ms/step - loss: 2.9564 - accuracy: 0.3680\n"
     ]
    }
   ],
   "source": [
    "# Train the model\n",
    "history = model.fit(xs, ys, epochs=10, verbose=1)"
   ]
  },
  {
   "cell_type": "code",
   "execution_count": 5,
   "id": "3f56dc05",
   "metadata": {},
   "outputs": [
    {
     "name": "stdout",
     "output_type": "stream",
     "text": [
      "Next words: The quick brown ones\n"
     ]
    }
   ],
   "source": [
    "predicted_probabilities = model.predict(token_list, verbose=0)\n",
    "predicted_index = np.argmax(predicted_probabilities)\n",
    "output_word = \"\"\n",
    "\n",
    "for word, index in tokenizer.word_index.items():\n",
    "    if index == predicted_index:\n",
    "        output_word = word\n",
    "        break\n",
    "\n",
    "seed_text += \" \" + output_word\n",
    "print(\"Next words:\", seed_text)"
   ]
  },
  {
   "cell_type": "code",
   "execution_count": null,
   "id": "2aee4584",
   "metadata": {},
   "outputs": [],
   "source": []
  }
 ],
 "metadata": {
  "kernelspec": {
   "display_name": "Python 3 (ipykernel)",
   "language": "python",
   "name": "python3"
  },
  "language_info": {
   "codemirror_mode": {
    "name": "ipython",
    "version": 3
   },
   "file_extension": ".py",
   "mimetype": "text/x-python",
   "name": "python",
   "nbconvert_exporter": "python",
   "pygments_lexer": "ipython3",
   "version": "3.10.9"
  }
 },
 "nbformat": 4,
 "nbformat_minor": 5
}
