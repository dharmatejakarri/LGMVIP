{
 "cells": [
  {
   "cell_type": "code",
   "execution_count": 1,
   "id": "ddb116ed",
   "metadata": {},
   "outputs": [
    {
     "name": "stdout",
     "output_type": "stream",
     "text": [
      "Downloading data from https://storage.googleapis.com/tensorflow/tf-keras-datasets/mnist.npz\n",
      "11490434/11490434 [==============================] - 2s 0us/step\n"
     ]
    }
   ],
   "source": [
    "import tensorflow as tf\n",
    "from tensorflow.keras.datasets import mnist\n",
    "\n",
    "# Load the MNIST dataset\n",
    "(x_train, y_train), (x_test, y_test) = mnist.load_data()\n",
    "\n",
    "# Normalize the input data\n",
    "x_train = x_train / 255.0\n",
    "x_test = x_test / 255.0"
   ]
  },
  {
   "cell_type": "code",
   "execution_count": 2,
   "id": "472db54a",
   "metadata": {},
   "outputs": [],
   "source": [
    "model = tf.keras.models.Sequential([\n",
    "    tf.keras.layers.Conv2D(32, (3, 3), activation='relu', input_shape=(28, 28, 1)),\n",
    "    tf.keras.layers.MaxPooling2D((2, 2)),\n",
    "    tf.keras.layers.Flatten(),\n",
    "    tf.keras.layers.Dense(64, activation='relu'),\n",
    "    tf.keras.layers.Dense(10, activation='softmax')\n",
    "])\n",
    "\n",
    "# Compile the model\n",
    "model.compile(optimizer='adam', loss='sparse_categorical_crossentropy', metrics=['accuracy'])"
   ]
  },
  {
   "cell_type": "code",
   "execution_count": 3,
   "id": "2fa90a04",
   "metadata": {},
   "outputs": [
    {
     "name": "stdout",
     "output_type": "stream",
     "text": [
      "Epoch 1/5\n",
      "1875/1875 [==============================] - 41s 22ms/step - loss: 0.1661 - accuracy: 0.9507 - val_loss: 0.0801 - val_accuracy: 0.9750\n",
      "Epoch 2/5\n",
      "1875/1875 [==============================] - 49s 26ms/step - loss: 0.0605 - accuracy: 0.9816 - val_loss: 0.0521 - val_accuracy: 0.9839\n",
      "Epoch 3/5\n",
      "1875/1875 [==============================] - 43s 23ms/step - loss: 0.0396 - accuracy: 0.9880 - val_loss: 0.0498 - val_accuracy: 0.9851\n",
      "Epoch 4/5\n",
      "1875/1875 [==============================] - 12s 7ms/step - loss: 0.0288 - accuracy: 0.9909 - val_loss: 0.0485 - val_accuracy: 0.9842\n",
      "Epoch 5/5\n",
      "1875/1875 [==============================] - 44s 24ms/step - loss: 0.0196 - accuracy: 0.9936 - val_loss: 0.0459 - val_accuracy: 0.9858\n",
      "313/313 [==============================] - 3s 10ms/step - loss: 0.0459 - accuracy: 0.9858\n",
      "Test accuracy: 0.98580002784729\n"
     ]
    }
   ],
   "source": [
    "# Train the model\n",
    "model.fit(x_train, y_train, epochs=5, validation_data=(x_test, y_test))\n",
    "\n",
    "# Evaluate the model\n",
    "test_loss, test_acc = model.evaluate(x_test, y_test)\n",
    "print('Test accuracy:', test_acc)"
   ]
  },
  {
   "cell_type": "code",
   "execution_count": null,
   "id": "e7bff46e",
   "metadata": {},
   "outputs": [],
   "source": []
  }
 ],
 "metadata": {
  "kernelspec": {
   "display_name": "Python 3 (ipykernel)",
   "language": "python",
   "name": "python3"
  },
  "language_info": {
   "codemirror_mode": {
    "name": "ipython",
    "version": 3
   },
   "file_extension": ".py",
   "mimetype": "text/x-python",
   "name": "python",
   "nbconvert_exporter": "python",
   "pygments_lexer": "ipython3",
   "version": "3.10.9"
  }
 },
 "nbformat": 4,
 "nbformat_minor": 5
}
